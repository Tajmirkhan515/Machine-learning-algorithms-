{
 "cells": [
  {
   "cell_type": "code",
   "execution_count": 4,
   "id": "fac918fa-4f91-4ac9-873e-17d471b1aeea",
   "metadata": {},
   "outputs": [],
   "source": [
    "import matplotlib.pyplot as plt # for ploting the graph\n",
    "import numpy as np   # for mathematics\n",
    "import pandas as pd   # This is used for panda\n",
    "import sklearn.linear_model # this is used for linear model"
   ]
  },
  {
   "cell_type": "code",
   "execution_count": 5,
   "id": "e3704977-d4dc-4b24-87c2-e3a44e57f120",
   "metadata": {},
   "outputs": [],
   "source": [
    "#thousands: To correctly parse large numbers formatted with commas as thousands separators.\n",
    "#delimiter: To correctly split columns when the file uses tabs instead of commas as separators.\n",
    "#encoding: To handle files with special characters that might not be correctly interpreted with the default encoding.\n",
    "#na_values: To ensure that placeholders for missing data are correctly interpreted as NaN\n",
    "\n",
    "# for Example below that\n",
    "#Country\\tGDP_per_capita\n",
    "#United States\\t50,000\n",
    "#Canada\\t45,000\n",
    "#Germany\\tn/a\n",
    "#France\\t42,000\n",
    "\n",
    "#convert to this \n",
    "#         Country  GDP_per_capita\n",
    "#0  United States          50000.0\n",
    "#1         Canada          45000.0\n",
    "#2        Germany              NaN\n",
    "#3         France          42000.0\n"
   ]
  },
  {
   "cell_type": "code",
   "execution_count": 29,
   "id": "eb392b80-08a5-4692-8281-c2c75d1b8078",
   "metadata": {},
   "outputs": [],
   "source": [
    "# Load the data\n",
    "oecd_bli = pd.read_csv(\"all datasets/oecd_bli_2015.csv\", thousands=',')  # thousands: This is useful when dealing with large numbers in a format like 1,000 or 1,000,000, ensuring they are correctly parsed as 1000 or 1000000 \n",
    "gdp_per_capita = pd.read_csv(\"all datasets/gdp_per_capita.csv\", thousands=',', delimiter=',', encoding='latin1', na_values=\"n/a\")\n"
   ]
  },
  {
   "cell_type": "code",
   "execution_count": 30,
   "id": "0745e7a0-ae22-4454-ad93-50e90e9462c6",
   "metadata": {},
   "outputs": [
    {
     "name": "stdout",
     "output_type": "stream",
     "text": [
      "(3292, 17)\n",
      "(190, 7)\n",
      "  LOCATION    Country INDICATOR                           Indicator MEASURE  \\\n",
      "0      AUS  Australia   HO_BASE  Dwellings without basic facilities       L   \n",
      "1      AUT    Austria   HO_BASE  Dwellings without basic facilities       L   \n",
      "2      BEL    Belgium   HO_BASE  Dwellings without basic facilities       L   \n",
      "\n",
      "  Measure INEQUALITY Inequality Unit Code        Unit  PowerCode Code  \\\n",
      "0   Value        TOT      Total        PC  Percentage               0   \n",
      "1   Value        TOT      Total        PC  Percentage               0   \n",
      "2   Value        TOT      Total        PC  Percentage               0   \n",
      "\n",
      "  PowerCode  Reference Period Code  Reference Period  Value Flag Codes  \\\n",
      "0     units                    NaN               NaN    1.1          E   \n",
      "1     units                    NaN               NaN    1.0        NaN   \n",
      "2     units                    NaN               NaN    2.0        NaN   \n",
      "\n",
      "             Flags  \n",
      "0  Estimated value  \n",
      "1              NaN  \n",
      "2              NaN  \n",
      "       Country                                Subject Descriptor  \\\n",
      "0  Afghanistan  Gross domestic product per capita current prices   \n",
      "1      Albania  Gross domestic product per capita current prices   \n",
      "2      Algeria  Gross domestic product per capita current prices   \n",
      "\n",
      "          Units  Scale                      Country/Series-specific Notes  \\\n",
      "0  U.S. dollars  Units  See notes for:  Gross domestic product current...   \n",
      "1  U.S. dollars  Units  See notes for:  Gross domestic product current...   \n",
      "2  U.S. dollars  Units  See notes for:  Gross domestic product current...   \n",
      "\n",
      "       2015  Estimates Start After  \n",
      "0   599.994                 2013.0  \n",
      "1  3995.383                 2010.0  \n",
      "2  4318.135                 2014.0  \n",
      "               Country                                Subject Descriptor  \\\n",
      "0          Afghanistan  Gross domestic product per capita current prices   \n",
      "1              Albania  Gross domestic product per capita current prices   \n",
      "2              Algeria  Gross domestic product per capita current prices   \n",
      "3               Angola  Gross domestic product per capita current prices   \n",
      "4  Antigua and Barbuda  Gross domestic product per capita current prices   \n",
      "\n",
      "          Units  Scale                      Country/Series-specific Notes  \\\n",
      "0  U.S. dollars  Units  See notes for:  Gross domestic product current...   \n",
      "1  U.S. dollars  Units  See notes for:  Gross domestic product current...   \n",
      "2  U.S. dollars  Units  See notes for:  Gross domestic product current...   \n",
      "3  U.S. dollars  Units  See notes for:  Gross domestic product current...   \n",
      "4  U.S. dollars  Units  See notes for:  Gross domestic product current...   \n",
      "\n",
      "        2015  Estimates Start After  \n",
      "0    599.994                 2013.0  \n",
      "1   3995.383                 2010.0  \n",
      "2   4318.135                 2014.0  \n",
      "3   4100.315                 2014.0  \n",
      "4  14414.302                 2011.0  \n",
      "  LOCATION         Country INDICATOR                           Indicator  \\\n",
      "0      AUS       Australia   HO_BASE  Dwellings without basic facilities   \n",
      "1      AUT         Austria   HO_BASE  Dwellings without basic facilities   \n",
      "2      BEL         Belgium   HO_BASE  Dwellings without basic facilities   \n",
      "3      CAN          Canada   HO_BASE  Dwellings without basic facilities   \n",
      "4      CZE  Czech Republic   HO_BASE  Dwellings without basic facilities   \n",
      "\n",
      "  MEASURE Measure INEQUALITY Inequality Unit Code        Unit  PowerCode Code  \\\n",
      "0       L   Value        TOT      Total        PC  Percentage               0   \n",
      "1       L   Value        TOT      Total        PC  Percentage               0   \n",
      "2       L   Value        TOT      Total        PC  Percentage               0   \n",
      "3       L   Value        TOT      Total        PC  Percentage               0   \n",
      "4       L   Value        TOT      Total        PC  Percentage               0   \n",
      "\n",
      "  PowerCode  Reference Period Code  Reference Period  Value Flag Codes  \\\n",
      "0     units                    NaN               NaN    1.1          E   \n",
      "1     units                    NaN               NaN    1.0        NaN   \n",
      "2     units                    NaN               NaN    2.0        NaN   \n",
      "3     units                    NaN               NaN    0.2        NaN   \n",
      "4     units                    NaN               NaN    0.9        NaN   \n",
      "\n",
      "             Flags  \n",
      "0  Estimated value  \n",
      "1              NaN  \n",
      "2              NaN  \n",
      "3              NaN  \n",
      "4              NaN  \n"
     ]
    }
   ],
   "source": [
    "print (oecd_bli.shape)\n",
    "print (gdp_per_capita.shape)\n",
    "print (oecd_bli.head(3))\n",
    "print (gdp_per_capita.head(3))\n",
    "\n",
    "# Clean 'Country' columns remove space, while this column create a problem for that, I remove applied space, to mach properly, below\n",
    "gdp_per_capita['Country'] = gdp_per_capita['Country'].str.strip()\n",
    "oecd_bli['Country'] = oecd_bli['Country'].str.strip()\n",
    "\n",
    "# Inspect the cleaned DataFrames\n",
    "print(gdp_per_capita.head())\n",
    "print(oecd_bli.head())\n"
   ]
  },
  {
   "cell_type": "code",
   "execution_count": 35,
   "id": "1baaca76-4a0f-43ba-8321-5378355b8a4b",
   "metadata": {},
   "outputs": [
    {
     "name": "stdout",
     "output_type": "stream",
     "text": [
      "(37, 17)\n",
      "     LOCATION    Country INDICATOR        Indicator MEASURE Measure  \\\n",
      "2373      AUS  Australia    HS_LEB  Life expectancy       L   Value   \n",
      "2374      AUT    Austria    HS_LEB  Life expectancy       L   Value   \n",
      "2375      BEL    Belgium    HS_LEB  Life expectancy       L   Value   \n",
      "\n",
      "     INEQUALITY Inequality Unit Code   Unit  PowerCode Code PowerCode  \\\n",
      "2373        TOT      Total        YR  Years               0     units   \n",
      "2374        TOT      Total        YR  Years               0     units   \n",
      "2375        TOT      Total        YR  Years               0     units   \n",
      "\n",
      "      Reference Period Code  Reference Period  Value Flag Codes Flags  \n",
      "2373                    NaN               NaN   82.1        NaN   NaN  \n",
      "2374                    NaN               NaN   81.0        NaN   NaN  \n",
      "2375                    NaN               NaN   80.5        NaN   NaN  \n"
     ]
    }
   ],
   "source": [
    "# For simplicity and brevity's sake considering Life expectancy\n",
    "# as the only factor that determines happiness\n",
    "oecd_bli = oecd_bli[(oecd_bli['Inequality'] == 'Total') &\n",
    "                    (oecd_bli['Indicator'] == 'Life expectancy')]\n",
    "\n",
    "print(oecd_bli.shape) # only few number of rows remain. \n",
    "print(oecd_bli.head(3))# the total 17 attributes is same as above\n",
    "\n"
   ]
  },
  {
   "cell_type": "code",
   "execution_count": 39,
   "id": "341cd28c-6079-4200-9e4b-17b75017c6a1",
   "metadata": {},
   "outputs": [
    {
     "name": "stdout",
     "output_type": "stream",
     "text": [
      "(36, 23)\n",
      "(36, 1)\n",
      "(36, 1)\n",
      "        2015\n",
      "0  50961.865\n",
      "1  43724.031\n",
      "2  40106.632\n",
      "3   8669.998\n",
      "4  43331.961\n",
      "   Value\n",
      "0   82.1\n",
      "1   81.0\n",
      "2   80.5\n",
      "3   73.7\n",
      "4   81.5\n"
     ]
    }
   ],
   "source": [
    "# Prepare the data\n",
    "#on=['Country']: This parameter specifies that the merge should be based on the Country column, \n",
    "#which exists in both DataFrames. The merge will align rows from gdp_per_capita \n",
    "#and oecd_bli where the values in the Country columns are the same.\n",
    "\n",
    "combined_data = pd.merge(gdp_per_capita, oecd_bli, on=['Country'])   \n",
    "print(combined_data.shape)\n",
    "gdp_value = combined_data[['2015']].copy()\n",
    "bli_value = combined_data[['Value']].copy()\n",
    "\n",
    "print(gdp_value.shape)\n",
    "print(bli_value.shape)"
   ]
  },
  {
   "cell_type": "code",
   "execution_count": 40,
   "id": "e1b0f0ca-29ac-44e0-a56a-8fe0dd85a3c7",
   "metadata": {},
   "outputs": [
    {
     "name": "stdout",
     "output_type": "stream",
     "text": [
      "    GDP per capita  Life satisfaction\n",
      "0        50961.865               82.1\n",
      "1        43724.031               81.0\n",
      "2        40106.632               80.5\n",
      "3         8669.998               73.7\n",
      "4        43331.961               81.5\n",
      "5        13340.905               78.9\n",
      "6        17256.918               78.2\n",
      "7        52114.165               80.1\n",
      "8        17288.083               76.5\n",
      "9        41973.988               80.7\n",
      "10       37675.006               82.1\n",
      "11       40996.511               81.0\n",
      "12       18064.288               80.7\n",
      "13       12239.894               75.2\n",
      "14       50854.583               83.0\n",
      "15       51350.744               81.0\n",
      "16       35343.336               81.8\n",
      "17       29866.581               82.3\n",
      "18       32485.545               83.2\n",
      "19       27195.197               81.3\n",
      "20      101994.093               81.5\n",
      "21        9009.280               74.6\n",
      "22       43603.115               81.2\n",
      "23       37044.891               81.5\n",
      "24       74822.106               81.5\n",
      "25       12495.334               76.9\n",
      "26       19121.592               80.5\n",
      "27        9054.914               70.2\n",
      "28       15991.736               76.2\n",
      "29       20732.482               80.2\n",
      "30       25864.721               82.5\n",
      "31       49866.266               81.8\n",
      "32       80675.308               82.8\n",
      "33        9437.372               74.6\n",
      "34       43770.688               81.0\n",
      "35       55805.204               78.7\n"
     ]
    }
   ],
   "source": [
    "gdp_value.columns = ['GDP per capita']\n",
    "bli_value.columns = ['Life satisfaction']\n",
    "\n",
    "country_stats = pd.concat([gdp_value, bli_value], axis=1)\n",
    "\n",
    "print (country_stats)\n",
    "\n",
    "X = np.c_[country_stats['GDP per capita']]\n",
    "y = np.c_[country_stats['Life satisfaction']]"
   ]
  },
  {
   "cell_type": "code",
   "execution_count": null,
   "id": "675073a0-bcd4-4e74-bf29-77344df871d3",
   "metadata": {},
   "outputs": [],
   "source": []
  }
 ],
 "metadata": {
  "kernelspec": {
   "display_name": "Python 3 (ipykernel)",
   "language": "python",
   "name": "python3"
  },
  "language_info": {
   "codemirror_mode": {
    "name": "ipython",
    "version": 3
   },
   "file_extension": ".py",
   "mimetype": "text/x-python",
   "name": "python",
   "nbconvert_exporter": "python",
   "pygments_lexer": "ipython3",
   "version": "3.11.7"
  }
 },
 "nbformat": 4,
 "nbformat_minor": 5
}
